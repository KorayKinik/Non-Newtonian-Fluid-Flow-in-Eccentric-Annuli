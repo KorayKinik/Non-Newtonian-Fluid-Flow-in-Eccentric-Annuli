{
  "nbformat": 4,
  "nbformat_minor": 0,
  "metadata": {
    "colab": {
      "provenance": []
    },
    "kernelspec": {
      "name": "python3",
      "display_name": "Python 3"
    },
    "language_info": {
      "name": "python"
    }
  },
  "cells": [
    {
      "cell_type": "code",
      "execution_count": null,
      "metadata": {
        "id": "7iA5kIuyF16G"
      },
      "outputs": [],
      "source": []
    },
    {
      "cell_type": "code",
      "source": [
        "# THIS PROGRAM CALCULATES THE VELOCITY AND VISCOSITY PROFILES FOR LAMINAR FLOWING YIELD-POWER-LAW FLUIDS IN ECCENTRIC ANNULI• IT ALSO NUMERICALLY INTEGRATES THE VELOCITY PROFILE\n",
        "# OVER AREA TO OBTAIN FLOW RATE\n",
        "# BY MARK HACI 8/24/1988, LSU"
      ],
      "metadata": {
        "id": "apqycaoYRJvL"
      },
      "execution_count": null,
      "outputs": []
    },
    {
      "cell_type": "code",
      "source": [
        "# In summary, the procedure for calculating the velocity distribution is as follows:\n",
        "# 1. Use Eq. 3.20 and 3.21 to calculate eps_1 and eps_0\n",
        "# 2. Determine delta epsilon and delta n based on the size of the grid network\n",
        "# 3. Set coefficients P and Q to zero at the boundaries (eps=eps_i and eps_0)\n",
        "# 4. Guess a velocity field\n",
        "# 5. Calculate a viscosity field (Eq. 4.14 and so on) based on the latest velocity field\n",
        "# 6. Compute coefficients Aj, Bj, Cj and Dj using Eqs. 4.18-4.21\n",
        "# 7. Use recurrence equations 4.25 and 4.26 to compute coefficients P and Q from J=2 to M-1 for each column\n",
        "# 8. Calculate a new velocity field employing Eq. 4.22 from J=M-1 to 2 (back substitution)\n",
        "# 9. Check for convergence comparing old and new velocity fields\n",
        "# 10. Repeat from step 5 until the velocity field converges."
      ],
      "metadata": {
        "id": "O9zmDzxgRJx-"
      },
      "execution_count": null,
      "outputs": []
    },
    {
      "cell_type": "code",
      "source": [
        "# D2 - OUTER PIPE DIAMETER, IN\n",
        "# D1 - INNER PIPE DIAMETER, IN\n",
        "# E - ECCENTRICITY, DLESS\n",
        "# XN - FLOW BEHAVIOR INDEX, DLESS\n",
        "# XK - CONSISTENCY INDEX, EQ. CP\n",
        "# TAUO - YIELD POINT, LB/100 SQ• FT\n",
        "# RHO - DUMMY VARIABLE, PPG\n",
        "# DPDL - FRIC PRESSURE LOSS GRAD-, PSI/FT\n",
        "# QFLOW - EXPECTED FLOW RATE, GAL/MIN\n",
        "# NGRIDX - number of GRIDS IN ETA DITECTION\n",
        "# NGRIDY - number of GRIDS IN EPSILON DIRECTION\n",
        "# NITER - MAX number OF ITERATIONS\n",
        "# CONLIMI- CONVERGENCE LIMIT\n",
        "# CONLIM2- CONVERGENCE LIMIT\n",
        "# MVELO - \"1\" PRINTS VELOCITY PROFILE\n",
        "# MYISC - \"1\" PRINTS VISCOSITY PROFILE"
      ],
      "metadata": {
        "id": "lhZ03wyHONW1"
      },
      "execution_count": null,
      "outputs": []
    },
    {
      "cell_type": "code",
      "source": [
        "import numpy as np\n",
        "import pandas as pd\n",
        "from math import log, sqrt, sin, cos, sinh, cosh, pi"
      ],
      "metadata": {
        "id": "l1puDiqVosQk"
      },
      "execution_count": 46,
      "outputs": []
    },
    {
      "cell_type": "code",
      "source": [
        "# inputs\n",
        "\n",
        "ngridx = 52\n",
        "ngridy = 82\n",
        "\n",
        "def dim():\n",
        "    return np.random.normal(loc=0, scale=1, size=(ngridx, ngridy))\n",
        "def arr():\n",
        "    return np.random.normal(loc=0, scale=1, size=ngridy)\n",
        "\n",
        "a = dim()\n",
        "b = dim()\n",
        "c = dim()\n",
        "d = dim()\n",
        "garea = dim()\n",
        "\n",
        "p = dim()\n",
        "q = dim()\n",
        "v = dim()\n",
        "vn = dim()\n",
        "\n",
        "v1 = dim()\n",
        "vis1 = dim()\n",
        "vis2 = dim()\n",
        "gare = dim()\n",
        "\n",
        "visp1 = dim()\n",
        "visb1 = dim()\n",
        "visp2 = dim()\n",
        "visb2 = dim()\n",
        "\n",
        "delx = arr()\n",
        "totl = arr()\n",
        "\n",
        "d2 = 5\n",
        "d1 = 3.5\n",
        "e = 0.0001\n",
        "xn = 1\n",
        "xk = 0.001\n",
        "tauo = 12\n",
        "rho = 9.5\n",
        "\n",
        "dpdl = 0.1\n",
        "qflow = 200\n",
        "\n",
        "niter = 1000\n",
        "conlim1 = 0.001\n",
        "conlim2 = 0.001\n",
        "\n",
        "mvelo = \"1\"\n",
        "mvisc = \"1\""
      ],
      "metadata": {
        "id": "uNdEdQWwW-wf"
      },
      "execution_count": 36,
      "outputs": []
    },
    {
      "cell_type": "code",
      "source": [
        "# INITIALIZING AND READING DATA\n",
        "\n",
        "vislim = 1e-6\n",
        "vguess = qflow / (2.448*(d2**2-d1**2))\n",
        "\n",
        "if e < 0.0001:\n",
        "    e = 0.0001\n",
        "if e > 0.99:\n",
        "    e = 0.99\n",
        "\n",
        "zn = 1 / (2 - xn)\n",
        "\n",
        "taud = 4.788 * tauo * ((rho/8.34)**xn * (d2*1.27)**(2*xn) / (xk/100)**2)**zn\n",
        "fconst = 2262.06 * ((rho/8.34)**xn * (d2*1.27)**(2+xn) / (xk/100)**2)**zn\n",
        "f = dpdl * fconst\n",
        "\n",
        "vco = (xk/100 / (rho/8.34) / (d2*1.27)**xn)**zn\n",
        "qconst = vco * (d2*1.27)**2 / 63.09\n",
        "vconst = vco/30.48\n",
        "vguess = vguess/vconst\n",
        "viscon = (xk/100 * (rho/8.34)**(1-xn) * (d2*1.27)**(2-2*xn))**zn * 100"
      ],
      "metadata": {
        "id": "JNUeT86LF6GX"
      },
      "execution_count": 37,
      "outputs": []
    },
    {
      "cell_type": "code",
      "source": [
        "# CALCULATING THE PIPE RADIUS RATIO AND PRINT DATA\n",
        "\n",
        "s = d1/d2\n",
        "\n",
        "# CALCULATING THE BOUNDARIES OF THE PIPES IN BIPJLAR COORDINATES AND THE DIMENSIONS OF THE GRIDS\n",
        "\n",
        "j1 = ngridy + 2\n",
        "j2 = j1 - 1\n",
        "i1 = ngridx + 2\n",
        "i2 = i1 -1\n",
        "\n",
        "total = 0\n",
        "totl[1] = 0\n",
        "\n",
        "for j in range(ngridx):\n",
        "    i = ngridx - j + 1\n",
        "    x8 = (i+1) / i\n",
        "    x9 = ngridx + 1\n",
        "    delx[j] = log(x8)**e / ((log(x9))**e**ngridx**(1-e)) * pi\n",
        "    total = total + delx[j+1]\n",
        "\n",
        "for j in range(ngridx):\n",
        "    delx[j] = delx[j+1] * pi / total\n",
        "    totl[j+1] = totl[j] + delx[j+1]\n",
        "\n",
        "delx[1] = delx[2]\n",
        "delx[i1] = delx[i2]\n",
        "xm = e * (d2-d1)/d2\n",
        "x1 = (1- s*s - xm*xm)/2/s/xm\n",
        "x2 = (1- s*s - xm*xm)/2/xm\n",
        "eps1 = log(x1 + sqrt(x1**2-1))\n",
        "eps2 = log(x2 + sqrt(x2**2-1))\n",
        "dely = (eps1-eps2) / ngridy\n",
        "dsi = sinh(eps2)"
      ],
      "metadata": {
        "id": "zwCEYUi2F6Is"
      },
      "execution_count": 40,
      "outputs": []
    },
    {
      "cell_type": "code",
      "source": [
        "# STARTING LINE-BY-LINE METHOD, SETTING THE COEFFIIENTS AT THE BOUNDARIES\n",
        "\n",
        "for i in range(2, i2):\n",
        "    a[i, 1] = 1\n",
        "    b[i, 1] = 0\n",
        "    c[i, 1] = 0\n",
        "    d[i, 1] = 0\n",
        "    p[i, 1] = b[i, 1] / a[i, 1]\n",
        "    q[i, 1] = d[i, 1] / a[i, 1]\n",
        "    p[i, j1] = 0   # TODO\n",
        "    q[i, j1] = 0   # TODO\n"
      ],
      "metadata": {
        "id": "se2zaanlqVhJ"
      },
      "execution_count": 50,
      "outputs": []
    },
    {
      "cell_type": "code",
      "source": [
        "# GUESSING A VELOCITY FIELD\n",
        "\n",
        "for i in range(i1):\n",
        "    for j in range(j1):\n",
        "        v[i, j] = vguess\n",
        "        if j==1 or j==j1:\n",
        "            v[i, j] = 0\n"
      ],
      "metadata": {
        "id": "d1P8n2o6sYUL"
      },
      "execution_count": 49,
      "outputs": []
    },
    {
      "cell_type": "code",
      "source": [
        "# INITILAZING FLOW RATE, PRINTING COUNTER, AND ITERATION COUNTER\n",
        "\n",
        "qt1 = 0\n",
        "iprint = 0\n",
        "iter = 0\n",
        "\n",
        "# REPEATING TO SETAIN AN MIMPROVES VELOCITY FIELD\n",
        "# 100 CONTINUE\n",
        "\n",
        "for i in range(2, i1):\n",
        "    for j in range(2, j1):\n",
        "        numer = (delx[i-1]*(v[i,j] + v[i,j-1]) + delx[i]*(v[i-1,j] + v[i-1,j-1]))\n",
        "        denom = (delx[i] + delx[i-1])\n",
        "        v1[i,j] = 0.5 *  numer / denom\n"
      ],
      "metadata": {
        "id": "jqnUD7SztqKZ"
      },
      "execution_count": null,
      "outputs": []
    },
    {
      "cell_type": "code",
      "source": [
        "# CALCULATING VISCOSITY AT THE WEST FACE OF EACH CONTROL-VOLUME\n",
        "\n",
        "for i in range(2, i1):\n",
        "    for j in range(2, j1):\n",
        "\n",
        "        dvdx1 = abs(v[i, j] - v[i-1, j] / (delx[i-1] + delx[i]) / 2)\n",
        "        dvdy1 = abs(v1[i, j] - v1[i, j+1]) / dely\n",
        "\n",
        "        if j==2 or j==j2:\n",
        "            dvdy1 = 4/3 * dvdy1\n",
        "        c1 = dvdx1**2 + dvdy1**2\n",
        "\n",
        "        if c1 < vislim:\n",
        "            c1 = vislim\n",
        "\n",
        "        eta = totl[i-1]\n",
        "        eps = eps2 + (j-2)*dely + dely/2\n",
        "        xi = cosh(eps) - cos(eta)\n",
        "        sh1 = xi * sqrt(c1)\n",
        "        visb1[i, j] = taud * dsi / abs(sh1)\n",
        "\n",
        "        if xn <= 1:\n",
        "            visp1[i, j] = abs((dsi/sh1)**(1-xn))\n",
        "        else:\n",
        "            visp1[i, j] = abs((sh1/dsi)**(xn-1))\n",
        "\n",
        "        vis1[i, j] = visp1[i, j] + visb1[i, j]"
      ],
      "metadata": {
        "id": "2MR6hfX6wYEM"
      },
      "execution_count": 51,
      "outputs": []
    },
    {
      "cell_type": "code",
      "source": [
        "# CALCULATING VISCOSITY AT THE SOUTH FACE OF EACH CONTROL-VOLUME\n",
        "\n",
        "for i in range(2, i2):\n",
        "    for j in range(2, j1):\n",
        "\n",
        "        dvdx2 = abs(v1[i, j] - v1[i+1, j]) / delx[i]\n",
        "        dvdy2 = abs(v[i, j] - v[i, j-1]) / dely\n",
        "\n",
        "        if j==2 or j==j1:\n",
        "            dvdy2 = dvdy2 * 2\n",
        "\n",
        "        c2 = dvdx2**2 + dvdy2**2\n",
        "\n",
        "        if c2 < vislim:\n",
        "            c2 = vislim\n",
        "\n",
        "        eta = totl[i-1] + delx[i]/2\n",
        "        eps = eps2 + (j-2)*dely\n",
        "\n",
        "        if j==2:\n",
        "            eps = eps + dely/4\n",
        "        if j==j1:\n",
        "            eps = eps - dely/4\n",
        "\n",
        "        xi = cosh(eps) - cos(eta)\n",
        "        sh2 = xi * sqrt(c2)\n",
        "\n",
        "        visb2[i, j] = taud * dsi / abs(sh2)\n",
        "\n",
        "        if xn <= 1:\n",
        "            visp2[i, j] = abs((dsi/sh2)**(1-xn))\n",
        "        else:\n",
        "            visp2[i, j] = abs((sh2/dsi)**(xn-1))\n",
        "\n",
        "        vis2[i, j] = visp2[i, j] + visb2[i, j]"
      ],
      "metadata": {
        "id": "8qvCLvIyyTd4"
      },
      "execution_count": null,
      "outputs": []
    },
    {
      "cell_type": "code",
      "source": [
        "# COMPUTING THE COEFFICIENTS OF THE TOMA EQN.\n",
        "\n",
        "for i in range(2, i2):\n",
        "    for j in range(2, j2):\n",
        "\n",
        "        dels = dely\n",
        "        deln = dely\n",
        "        dele = (delx[i] + delx[i+1]) / 2\n",
        "        delw = (delx[i] + delx[i-1]) / 2\n",
        "\n",
        "        if j==2:\n",
        "            dels = dely/2\n",
        "        if j==j2:\n",
        "            deln = dely/2\n",
        "\n",
        "        di = (dele + delw) / 2\n",
        "        dj = (deln + dels) / 2\n",
        "\n",
        "        an = vis2[i, j+1] * di / deln\n",
        "        _as = vis2[i, j] * di / dels\n",
        "        ae = vis1[i+1, j] * dj / dele\n",
        "\n",
        "        aw = vis1[i+1,j] * dj / dele\n",
        "        a[i, j] = an + _as + ae + aw\n",
        "        b[i, j] = an\n",
        "        c[i, j] = _as\n",
        "\n",
        "        if i==2:\n",
        "            v[i-1, j] = v[i, j]\n",
        "        if i==i2:\n",
        "            v[i+1, j] = v[i, j]\n",
        "\n",
        "        eta = totl[i-1] + delx[i]/2\n",
        "        eps = eps2 + (j-2)*dely + dely/2\n",
        "\n",
        "        xi = cosh(eps) - cos(eta)\n",
        "        gare[i, j] = dsi * dsi / xi / xi * di * dj\n",
        "\n",
        "        d[i,j] = ae * v[i+1, j] + aw * v[i-1, j] + gare[i, j] * f\n",
        "        p[i,j] = b[i,j] / (a[i,j] - c[i,j] * p[i,j-1])\n",
        "        q[i,j] = (c[i,j] * q[i,j-1] + d[i,j]) / (a[i,j] - c[i,j] * p[i,j-1])\n",
        "\n"
      ],
      "metadata": {
        "id": "7kQ-T3tH4119"
      },
      "execution_count": null,
      "outputs": []
    },
    {
      "cell_type": "code",
      "source": [
        "# CALCULATING \"NEW\" VELOCITY FIELD\n",
        "\n",
        "for i in range(2, i2):\n",
        "    for n in range(2, j2):\n",
        "        j = j2 - n + 2\n",
        "        vn[i, j] = p[i, j] * v[i, j+1] + q[i, j]\n",
        "\n",
        "for i in range(2, i2):\n",
        "    for n in range(2, j2):\n",
        "        v[i,j] = vn[i,j]\n",
        "\n",
        "# COUNTING NUMBER OF ITERATIONS\n",
        "# no need to code this explicitly"
      ],
      "metadata": {
        "id": "KFyw0-ObCvr0"
      },
      "execution_count": null,
      "outputs": []
    },
    {
      "cell_type": "code",
      "source": [
        "# CALCULATINS FLOW RATE\n",
        "\n",
        "for i in range(2, i2):\n",
        "    for j in range(2, j2):\n",
        "\n",
        "        area = area + gare[i, j]\n",
        "        florate = v[i, j] * gare[i, j]\n",
        "        qt = qt + florate\n",
        "\n",
        "qt = 2 * qt\n",
        "vavg = qt / 2 / area\n",
        "\n",
        "###### convergence of the outer loop\n",
        "if abs((qt1-qt)/qt < conlim1):\n",
        "    # break\n",
        "    pass\n",
        "else:\n",
        "    qt1 = qt\n"
      ],
      "metadata": {
        "id": "QciFG2pBDmQl"
      },
      "execution_count": null,
      "outputs": []
    },
    {
      "cell_type": "code",
      "source": [
        "# LIMIT ON NUMBER OF ITERATIONS\n",
        "\n",
        "vislim = vislim * 1e-2\n",
        "if vislim < 1e-50:\n",
        "    pass\n",
        "if abs((qtvis - qt) / qt) < conlim2:\n",
        "    pass\n",
        "else:\n",
        "    qtvis = qt\n"
      ],
      "metadata": {
        "id": "x6E24JmyEEul"
      },
      "execution_count": null,
      "outputs": []
    },
    {
      "cell_type": "code",
      "source": [
        "# SUBROUTINE POWER\n",
        "\n",
        "def power(xmax, ipower=0, powr=1):\n",
        "\n",
        "    if xmax > 0.09999:\n",
        "        if xmax < 1:\n",
        "            pass\n",
        "        else:\n",
        "            xmax = 0.1 * xmax\n",
        "            ipower = ipower + 1\n",
        "            powr = powr / 0.1\n",
        "    else:\n",
        "        xmax = 10*xmax\n",
        "        ipower = ipower - 1\n",
        "        powr = powr * 0.1\n",
        "\n",
        "    return xmax, ipower, powr\n"
      ],
      "metadata": {
        "id": "lrL5VD7Piu8Q"
      },
      "execution_count": 48,
      "outputs": []
    },
    {
      "cell_type": "code",
      "source": [
        "\n",
        "for j in range(1, j1):\n",
        "    for i in range(1, i1):\n",
        "        v[i,j] = vconst * v[i,j]\n",
        "\n",
        "jm = j1/2\n",
        "vmax = v[2,jm]\n",
        "vmax, _ = power(vmax)\n",
        "\n",
        "for n in range(1, j1):\n",
        "    j = j1 - n + 1\n",
        "\n",
        "# PRINTING VISCOSITY FIELD\n",
        "# ..."
      ],
      "metadata": {
        "id": "geXSRwDgEExF"
      },
      "execution_count": null,
      "outputs": []
    }
  ]
}